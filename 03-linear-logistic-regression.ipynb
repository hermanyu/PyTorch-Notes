{
 "cells": [
  {
   "cell_type": "markdown",
   "id": "cd2b17bf-2c1c-4adb-9842-d3f9b329913b",
   "metadata": {},
   "source": [
    "# Linear and Logistic Regression"
   ]
  },
  {
   "cell_type": "code",
   "execution_count": 57,
   "id": "e583b87f-ac85-4ca1-ab1b-6678540d0aad",
   "metadata": {},
   "outputs": [],
   "source": [
    "import torch\n",
    "import torch.nn as nn\n",
    "import numpy as np\n",
    "from sklearn import datasets\n",
    "from sklearn.preprocessing import StandardScaler\n",
    "from sklearn.model_selection import train_test_split\n",
    "\n",
    "import matplotlib.pyplot as plt"
   ]
  },
  {
   "cell_type": "markdown",
   "id": "b92c5fc1-f117-48bb-8e3c-f7f11fd4f918",
   "metadata": {},
   "source": [
    "## Linear Regression"
   ]
  },
  {
   "cell_type": "code",
   "execution_count": 32,
   "id": "ccf17a90-90a8-4261-ad29-9d51fe8c3c1e",
   "metadata": {},
   "outputs": [],
   "source": [
    "X_array, y_array = datasets.make_regression(n_samples=100, n_features=5, noise=2,  random_state=117)\n",
    "\n",
    "X = torch.tensor(X_array, device='cuda', dtype=torch.float32)\n",
    "y = torch.tensor(y_array, device='cuda', dtype=torch.float32)\n",
    "\n",
    "# recall we have reshape our tensor, so that each output is wrapped in a 1D container\n",
    "# we can reshape a torch.tensor using the tensor.view() method\n",
    "### I.E. we need to turn y into a column vector!\n",
    "y = y.view(y.shape[0],1)"
   ]
  },
  {
   "cell_type": "code",
   "execution_count": 33,
   "id": "c461df50-e0e6-4b65-b794-6f6e5e41cf41",
   "metadata": {},
   "outputs": [],
   "source": [
    "n_samples, n_features = X.shape"
   ]
  },
  {
   "cell_type": "markdown",
   "id": "e4a19989-af72-4d1e-8e35-ba335a81f772",
   "metadata": {},
   "source": [
    "### 1) Create Model"
   ]
  },
  {
   "cell_type": "code",
   "execution_count": 34,
   "id": "7f950308-f09e-4414-ad4a-4c1be51a1b15",
   "metadata": {},
   "outputs": [],
   "source": [
    "input_size = n_features\n",
    "output_size = 1\n",
    "\n",
    "# instantiate Linear Regression Model\n",
    "model = nn.Linear(input_size, output_size, device='cuda')"
   ]
  },
  {
   "cell_type": "markdown",
   "id": "12eb49a3-9a2e-428f-b8af-ace363cc71e1",
   "metadata": {},
   "source": [
    "### 2) Loss and Optimizer"
   ]
  },
  {
   "cell_type": "code",
   "execution_count": 39,
   "id": "ed872256-92ec-4530-9b24-560f8106c043",
   "metadata": {},
   "outputs": [],
   "source": [
    "learning_rate = 1\n",
    "\n",
    "# specify MSE Loss and optimization algorithm as Adam\n",
    "criterion = nn.MSELoss()\n",
    "optimizer = torch.optim.Adam(model.parameters(), lr = learning_rate)"
   ]
  },
  {
   "cell_type": "markdown",
   "id": "c098b3d9-1b69-4501-b38b-53ff711f33c1",
   "metadata": {},
   "source": [
    "### 3) Training Loop"
   ]
  },
  {
   "cell_type": "code",
   "execution_count": 56,
   "id": "ef53e381-7712-4ba9-8fa6-93d4b2465c19",
   "metadata": {},
   "outputs": [
    {
     "name": "stdout",
     "output_type": "stream",
     "text": [
      "Epoch 5: loss = 3.5412611961364746\n",
      "Epoch 10: loss = 3.5410637855529785\n",
      "Epoch 15: loss = 3.5412437915802\n",
      "Epoch 20: loss = 3.5410728454589844\n",
      "Epoch 25: loss = 3.541254758834839\n",
      "Epoch 30: loss = 3.541001558303833\n",
      "Epoch 35: loss = 3.541241407394409\n",
      "Epoch 40: loss = 3.5410585403442383\n",
      "Epoch 45: loss = 3.5410547256469727\n",
      "Epoch 50: loss = 3.5412609577178955\n"
     ]
    },
    {
     "data": {
      "text/plain": [
       "<matplotlib.collections.PathCollection at 0x172477058b0>"
      ]
     },
     "execution_count": 56,
     "metadata": {},
     "output_type": "execute_result"
    },
    {
     "data": {
      "image/png": "[encoded data removed]",
      "text/plain": [
       "<Figure size 432x288 with 1 Axes>"
      ]
     },
     "metadata": {
      "needs_background": "light"
     },
     "output_type": "display_data"
    }
   ],
   "source": [
    "num_epochs = 50\n",
    "\n",
    "for epoch in range(num_epochs):\n",
    "    # forward pass\n",
    "    y_pred = model(X)\n",
    "    # compute loss\n",
    "    loss = criterion(y_pred, y)\n",
    "    # backprop\n",
    "    loss.backward()\n",
    "    # descend\n",
    "    optimizer.step()\n",
    "    # reset gradient\n",
    "    optimizer.zero_grad()\n",
    "    \n",
    "    # print every 5 epochs\n",
    "    if (epoch+1)%5 == 0:\n",
    "        print(f'Epoch {epoch+1}: loss = {loss}')\n",
    "        \n",
    "\n",
    "# plot\n",
    "# note, we will detach the tensor from the computational graph so that\n",
    "# PyTorch doesn't try to track the plotting operations\n",
    "predicted = model(X).detach()\n",
    "residuals = y-predicted\n",
    "residuals = residuals.cpu().numpy().reshape(100)\n",
    "predicted = predicted.cpu().numpy().reshape(100)\n",
    "plt.scatter(x = predicted, y = residuals)\n",
    "    "
   ]
  },
  {
   "cell_type": "markdown",
   "id": "306fa342-3edd-41f8-b167-0d8982a174c2",
   "metadata": {},
   "source": [
    "---\n",
    "\n",
    "## Logistic Regression\n",
    "\n",
    "In this section, we'll build a Logistic Regression model to classify Breast Cancer cases. Here we will also practice building custom classes."
   ]
  },
  {
   "cell_type": "code",
   "execution_count": 59,
   "id": "3c34e43c-556b-4cb5-826b-eb82a99313f6",
   "metadata": {},
   "outputs": [],
   "source": [
    "# load the breast cancer dataset\n",
    "bc = datasets.load_breast_cancer()\n",
    "\n",
    "# set up X and y\n",
    "X,y = bc.data, bc.target\n",
    "\n",
    "# get sample size and feature dimensions\n",
    "n_samples, n_features = X.shape\n",
    "\n",
    "# train test split\n",
    "X_train, X_test, y_train, y_test = train_test_split(X, y, test_size=0.2, random_state=117)"
   ]
  },
  {
   "cell_type": "code",
   "execution_count": 60,
   "id": "66dc9c2b-b611-4e62-b56c-122d59ccd414",
   "metadata": {},
   "outputs": [],
   "source": [
    "# scale data\n",
    "scale = StandardScaler()\n",
    "\n",
    "Xs_train = scale.fit_transform(X_train)\n",
    "Xs_test = scale.transform(X_test)"
   ]
  },
  {
   "cell_type": "code",
   "execution_count": 68,
   "id": "62b84974-f177-4afd-aac7-bb4750a16dc2",
   "metadata": {},
   "outputs": [],
   "source": [
    "# convert to Torch Tensors, we can either use torch.from_numpy() or torch.as_tensor()\n",
    "Xs_train = torch.as_tensor(Xs_train, device='cuda', dtype=torch.float32)\n",
    "Xs_test = torch.as_tensor(Xs_test, device = 'cuda', dtype=torch.float32)\n",
    "\n",
    "y_train = torch.as_tensor(y_train, device = 'cuda', dtype=torch.float32)\n",
    "y_test = torch.as_tensor(y_test, device='cuda', dtype=torch.float32)\n",
    "\n",
    "# reshape output tensors\n",
    "y_train = y_train.view(y_train.shape[0], 1)\n",
    "y_test = y_test.view(y_test.shape[0], 1)"
   ]
  },
  {
   "cell_type": "markdown",
   "id": "6fd47c16-2883-45a6-a244-48249c4cb7c6",
   "metadata": {},
   "source": [
    "### 1) Create Model\n",
    "\n",
    "This time, let's try building a custom class."
   ]
  },
  {
   "cell_type": "code",
   "execution_count": 74,
   "id": "cba33670-156a-4e48-9056-554fac8d36b7",
   "metadata": {},
   "outputs": [],
   "source": [
    "# create custom class which subclasses from nn.Module\n",
    "class LogisticRegression(nn.Module):\n",
    "    \n",
    "    def __init__(self, input_shape, **kwargs):\n",
    "        # initialize as a member of the super class nn.Module\n",
    "        super(LogisticRegression, self).__init__()\n",
    "        # layers go here (we only have the output layer since we are doing logistic regression)\n",
    "        self.linear = nn.Linear(input_shape, 1, **kwargs)\n",
    "        \n",
    "    def forward(self,x):\n",
    "        y_pred = torch.nn.functional.sigmoid(self.linear(x))\n",
    "        return y_pred\n",
    "    "
   ]
  },
  {
   "cell_type": "code",
   "execution_count": 79,
   "id": "da787d22-8add-498f-8707-b804e2aa298d",
   "metadata": {},
   "outputs": [],
   "source": [
    "model = LogisticRegression(input_shape = n_features, device='cuda')"
   ]
  },
  {
   "cell_type": "markdown",
   "id": "622503e8-94fe-4b66-9956-94db4b4e3571",
   "metadata": {},
   "source": [
    "### 2) Set Loss and Optimizer"
   ]
  },
  {
   "cell_type": "code",
   "execution_count": 80,
   "id": "eefcd532-9ec4-4d8d-ada7-c6d296e06410",
   "metadata": {},
   "outputs": [],
   "source": [
    "learning_rate = 0.01\n",
    "criterion = nn.MSELoss()\n",
    "optimizer = torch.optim.Adam(model.parameters(), lr = learning_rate)"
   ]
  },
  {
   "cell_type": "markdown",
   "id": "5f82a0c9-f39c-40e4-a6ff-6764b0526b26",
   "metadata": {},
   "source": [
    "### 3) Training Loop"
   ]
  },
  {
   "cell_type": "code",
   "execution_count": 81,
   "id": "f0cd2805-a1cb-4c4d-93cf-38a7976a0016",
   "metadata": {},
   "outputs": [
    {
     "name": "stdout",
     "output_type": "stream",
     "text": [
      "Epoch 5: loss = 0.1194760873913765\n",
      "Epoch 10: loss = 0.07569771260023117\n",
      "Epoch 15: loss = 0.05607548728585243\n",
      "Epoch 20: loss = 0.04551072418689728\n",
      "Epoch 25: loss = 0.039284683763980865\n",
      "Epoch 30: loss = 0.03529727831482887\n",
      "Epoch 35: loss = 0.03257334604859352\n",
      "Epoch 40: loss = 0.0306075569242239\n",
      "Epoch 45: loss = 0.0291022639721632\n",
      "Epoch 50: loss = 0.02789505384862423\n",
      "Epoch 55: loss = 0.02688427083194256\n",
      "Epoch 60: loss = 0.026019582524895668\n",
      "Epoch 65: loss = 0.02525569126009941\n",
      "Epoch 70: loss = 0.02458094246685505\n",
      "Epoch 75: loss = 0.023971201851963997\n",
      "Epoch 80: loss = 0.023416809737682343\n",
      "Epoch 85: loss = 0.02290918678045273\n",
      "Epoch 90: loss = 0.02243766188621521\n",
      "Epoch 95: loss = 0.021999789401888847\n",
      "Epoch 100: loss = 0.021591395139694214\n",
      "val accuracy = 0.9561\n"
     ]
    }
   ],
   "source": [
    "num_epochs = 100\n",
    "for epoch in range(num_epochs):\n",
    "    # forward pass\n",
    "    y_preds = model(Xs_train)\n",
    "    # loss\n",
    "    loss = criterion(y_preds, y_train)\n",
    "    # backprop\n",
    "    loss.backward()\n",
    "    # descend\n",
    "    optimizer.step()\n",
    "    # reset\n",
    "    optimizer.zero_grad()\n",
    "    \n",
    "    if (epoch+1)%5 == 0:\n",
    "        print(f'Epoch {epoch+1}: loss = {loss}')\n",
    "        \n",
    "\n",
    "# we want to evaluate on the test set, so we'll need to detach the weights from the computation graph\n",
    "with torch.no_grad():\n",
    "    # predict probabilities\n",
    "    val_pred = model(Xs_test)\n",
    "    # round predictions to get classification\n",
    "    val_pred_cls = val_pred.round()\n",
    "    acc = val_pred_cls.eq(y_test).sum()/float(y_test.shape[0])\n",
    "    print(f'val accuracy = {acc:.4f}')"
   ]
  },
  {
   "cell_type": "code",
   "execution_count": null,
   "id": "f6ce6125-2ae2-47f9-acdc-616e44a7b317",
   "metadata": {},
   "outputs": [],
   "source": []
  }
 ],
 "metadata": {
  "kernelspec": {
   "display_name": "Python 3 (ipykernel)",
   "language": "python",
   "name": "python3"
  },
  "language_info": {
   "codemirror_mode": {
    "name": "ipython",
    "version": 3
   },
   "file_extension": ".py",
   "mimetype": "text/x-python",
   "name": "python",
   "nbconvert_exporter": "python",
   "pygments_lexer": "ipython3",
   "version": "3.9.12"
  }
 },
 "nbformat": 4,
 "nbformat_minor": 5
}
