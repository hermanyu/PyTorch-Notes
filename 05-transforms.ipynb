{
 "cells": [
  {
   "cell_type": "markdown",
   "id": "7e6ad9d6-b1f2-4108-9d61-4e3937811a96",
   "metadata": {},
   "source": [
    "# Transforms\n",
    "\n",
    "Once we have a ```Dataset``` and ```Dataloader``` ready to go, we can also start throwing in PyTorch **transforms** which manipulate and transform the input data."
   ]
  },
  {
   "cell_type": "code",
   "execution_count": 2,
   "id": "e0dc859f-1f98-4fe6-8485-253b4cb67593",
   "metadata": {},
   "outputs": [],
   "source": [
    "import torch\n",
    "import torchvision\n",
    "from torch.utils.data import Dataset\n",
    "import numpy as np"
   ]
  },
  {
   "cell_type": "code",
   "execution_count": 3,
   "id": "0888dc07-28ac-4b6e-b43b-288755693478",
   "metadata": {},
   "outputs": [],
   "source": [
    "# recreate wine data set\n",
    "class WineDataset(Dataset):\n",
    "    \n",
    "    def __init__(self):\n",
    "        data = np.loadtxt('./data/winequality.csv', delimiter = ',', dtype=np.float32, skiprows=1)\n",
    "        self.n_samples = data.shape[0]\n",
    "        self.x = data[:, 1:]\n",
    "        self.y = data[:,[0]]\n",
    "        \n",
    "    def __getitem__(self, index):\n",
    "        return self.x[index], self.y[index]\n",
    "    \n",
    "    def __len__(self):\n",
    "        return self.n_samples"
   ]
  },
  {
   "cell_type": "markdown",
   "id": "52923ea5-ca77-4c8c-90b8-1d72025387df",
   "metadata": {},
   "source": [
    "<br>\n",
    "\n",
    "In the ```Dataset``` class above, we are simply reading in the data and storing it in a numpy matrix. We can ask add some preprocessing and manipulation steps via transforms.\n",
    "\n",
    "<br>"
   ]
  },
  {
   "cell_type": "code",
   "execution_count": 5,
   "id": "613e87f4-1af5-4854-83d0-6e642c4b428f",
   "metadata": {},
   "outputs": [],
   "source": [
    "# re-define the WineDataset class, this time with transforms\n",
    "class WineDataset(Dataset):\n",
    "    # during init, we have to pass a transform\n",
    "    def __init__(self, transform=None):\n",
    "        data = np.loadtxt('./data/winequality.csv', delimiter = ',', dtype=np.float32, skiprows=1)\n",
    "        self.n_samples = data.shape[0]\n",
    "        self.x = data[:, 1:]\n",
    "        self.y = data[:,[0]]\n",
    "        # store a transform\n",
    "        self.transform = transform\n",
    "        \n",
    "    def __getitem__(self, index):\n",
    "        sample = self.x[index], self.y[index]\n",
    "        # apply transform, if one is stored\n",
    "        if self.transform:\n",
    "            sample = self.transform(sample)\n",
    "            \n",
    "        return sample\n",
    "    \n",
    "    def __len__(self):\n",
    "        return self.n_samples"
   ]
  },
  {
   "cell_type": "code",
   "execution_count": 6,
   "id": "2c9c533d-a0b4-43ca-90cd-0099658bb7d4",
   "metadata": {},
   "outputs": [],
   "source": [
    "# we can also define our own custom tranforms\n",
    "# To create a transform, we just need to define a __call__() method\n",
    "class ToTensor:\n",
    "    def __call__(self, sample, device='cuda'):\n",
    "        inputs, targets = sample\n",
    "        return torch.as_tensor(inputs, device=device, dtype=torch.float32), torch.as_tensor(targets, device=device, dtype=torch.float32)\n",
    "    "
   ]
  },
  {
   "cell_type": "code",
   "execution_count": 7,
   "id": "bd2ecd6f-afa1-407f-8e2d-e9def6a4e350",
   "metadata": {},
   "outputs": [],
   "source": [
    "# instantiate wine dataset, with the ToTensor() tranform\n",
    "dataset = WineDataset(transform = ToTensor())"
   ]
  },
  {
   "cell_type": "code",
   "execution_count": 12,
   "id": "0d2fe40c-d379-442f-b111-2ad9f736a505",
   "metadata": {},
   "outputs": [
    {
     "data": {
      "text/plain": [
       "(tensor([ 0.7000,  0.0000,  1.9000,  0.0760, 11.0000, 34.0000,  0.9978,  3.5100,\n",
       "          0.5600,  9.4000,  5.0000,  1.0000], device='cuda:0'),\n",
       " tensor([7.4000], device='cuda:0'))"
      ]
     },
     "execution_count": 12,
     "metadata": {},
     "output_type": "execute_result"
    }
   ],
   "source": [
    "# get the first item in the dataset.\n",
    "## This calls the __getitem__() method, which now will pass the sample through the ToTensor() transform\n",
    "first_data = dataset[0]\n",
    "\n",
    "first_data"
   ]
  },
  {
   "cell_type": "code",
   "execution_count": 13,
   "id": "cb5faed6-1f6f-4081-967b-f143f80257a7",
   "metadata": {},
   "outputs": [],
   "source": [
    "# We can also compose multiple transforms. This makes things nice if we want to setup a neat little pipeline\n",
    "\n",
    "# define a second transform\n",
    "class MulTransform:\n",
    "    def __init__(self, factor):\n",
    "        self.factor = factor\n",
    "        \n",
    "    def __call__(self, sample):\n",
    "        inputs, target = sample\n",
    "        inputs *=self.factor\n",
    "        return inputs, target\n"
   ]
  },
  {
   "cell_type": "code",
   "execution_count": 16,
   "id": "41123ce2-b379-49c3-a321-846a01f94686",
   "metadata": {},
   "outputs": [
    {
     "data": {
      "text/plain": [
       "(tensor([ 1.4000,  0.0000,  3.8000,  0.1520, 22.0000, 68.0000,  1.9956,  7.0200,\n",
       "          1.1200, 18.8000, 10.0000,  2.0000], device='cuda:0'),\n",
       " tensor([7.4000], device='cuda:0'))"
      ]
     },
     "execution_count": 16,
     "metadata": {},
     "output_type": "execute_result"
    }
   ],
   "source": [
    "# compose the MulTransform with ToTensor transform\n",
    "# To do this, we use the torchvision.transform.Compose() function\n",
    "# and pass a list of the transforms we want to compose\n",
    "composed = torchvision.transforms.Compose([ ToTensor(), MulTransform(2) ])\n",
    "\n",
    "# new data set with composed transform\n",
    "dataset = WineDataset(transform=composed)\n",
    "\n",
    "first_data = dataset[0]\n",
    "\n",
    "first_data"
   ]
  },
  {
   "cell_type": "code",
   "execution_count": null,
   "id": "6e4e7dcd-f50c-4c3f-a4a3-b072447e5ce8",
   "metadata": {},
   "outputs": [],
   "source": []
  }
 ],
 "metadata": {
  "kernelspec": {
   "display_name": "Python 3 (ipykernel)",
   "language": "python",
   "name": "python3"
  },
  "language_info": {
   "codemirror_mode": {
    "name": "ipython",
    "version": 3
   },
   "file_extension": ".py",
   "mimetype": "text/x-python",
   "name": "python",
   "nbconvert_exporter": "python",
   "pygments_lexer": "ipython3",
   "version": "3.9.12"
  }
 },
 "nbformat": 4,
 "nbformat_minor": 5
}
